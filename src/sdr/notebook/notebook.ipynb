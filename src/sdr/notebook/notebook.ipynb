{
 "cells": [
  {
   "cell_type": "markdown",
   "id": "ada38f1a",
   "metadata": {},
   "source": [
    "## JupyterSDRDisplay Test Notebook:\n",
    "> - continuous spectrogram spectrum from stick (use demo_waterfall.py as base).\n",
    "> - finds frequencies in the spectrogram that fit a model (avg db, snr, on, etc...)\n",
    "> - assigns a worker to monitor the frquencies that 'fit' the model.\n",
    ">   - worker records, catalogs signal when receiving a broadccast on assigned frequency\n",
    ">   - workers with signals are displayed in the spectrogram UI."
   ]
  },
  {
   "cell_type": "code",
   "execution_count": 7,
   "id": "8a0abbfd",
   "metadata": {},
   "outputs": [],
   "source": [
    "%matplotlib inline"
   ]
  },
  {
   "cell_type": "code",
   "execution_count": 8,
   "id": "1f160255",
   "metadata": {},
   "outputs": [],
   "source": [
    "from __future__ import division\n",
    "import matplotlib.animation as animation\n",
    "from matplotlib.mlab import psd\n",
    "import pylab as pyl\n",
    "import numpy as np\n",
    "import sys\n",
    "from rtlsdr import RtlSdr"
   ]
  },
  {
   "cell_type": "code",
   "execution_count": null,
   "id": "58de0005",
   "metadata": {},
   "outputs": [],
   "source": [
    "# A simple waterfall, spectrum plotter\n",
    "#\n",
    "# Controls:\n",
    "#\n",
    "# * Scroll mouse-wheel up or down, or press the left or right arrow keys, to\n",
    "#   change the center frequency (hold shift for finer control).\n",
    "# * Press \"+\" and \"-\" to control gain, and space to enable AGC.\n",
    "# * Type a frequency (in MHz) and press enter to directly change the center frequency"
   ]
  },
  {
   "cell_type": "code",
   "execution_count": 9,
   "id": "e83db303",
   "metadata": {},
   "outputs": [],
   "source": [
    "NFFT = 1024*4\n",
    "NUM_SAMPLES_PER_SCAN = NFFT*16\n",
    "NUM_BUFFERED_SWEEPS = 100\n",
    "\n",
    "# change this to control the number of scans that are combined in a single sweep\n",
    "# (e.g. 2, 3, 4, etc.) Note that it can slow things down\n",
    "NUM_SCANS_PER_SWEEP = 1\n",
    "\n",
    "# these are the increments when scrolling the mouse wheel or pressing '+' or '-'\n",
    "FREQ_INC_COARSE = 1e6\n",
    "FREQ_INC_FINE = 0.1e6\n",
    "GAIN_INC = 5"
   ]
  },
  {
   "cell_type": "code",
   "execution_count": 10,
   "id": "e5b41560",
   "metadata": {},
   "outputs": [],
   "source": [
    "class Waterfall(object):\n",
    "    keyboard_buffer = []\n",
    "    shift_key_down = False\n",
    "    image_buffer = -100*np.ones((NUM_BUFFERED_SWEEPS,\\\n",
    "                                 NUM_SCANS_PER_SWEEP*NFFT))\n",
    "\n",
    "    def __init__(self, sdr=None, fig=None):\n",
    "        self.fig = fig if fig else pyl.figure()\n",
    "        self.sdr = sdr if sdr else RtlSdr()\n",
    "\n",
    "        self.init_plot()\n",
    "\n",
    "    def init_plot(self):\n",
    "        self.ax = self.fig.add_subplot(1,1,1)\n",
    "        self.image = self.ax.imshow(self.image_buffer, aspect='auto',\\\n",
    "                                    interpolation='nearest', vmin=-50, vmax=10)\n",
    "        self.ax.set_xlabel('Current frequency (MHz)')\n",
    "        self.ax.get_yaxis().set_visible(False)\n",
    "\n",
    "        self.fig.canvas.mpl_connect('scroll_event', self.on_scroll)\n",
    "        self.fig.canvas.mpl_connect('key_press_event', self.on_key_press)\n",
    "        self.fig.canvas.mpl_connect('key_release_event', self.on_key_release)\n",
    "\n",
    "    def update_plot_labels(self):\n",
    "        fc = self.sdr.fc\n",
    "        rs = self.sdr.rs\n",
    "        freq_range = (fc - rs/2)/1e6, (fc + rs*(NUM_SCANS_PER_SWEEP - 0.5))/1e6\n",
    "\n",
    "        self.image.set_extent(freq_range + (0, 1))\n",
    "        self.fig.canvas.draw_idle()\n",
    "\n",
    "    def on_scroll(self, event):\n",
    "        if event.button == 'up':\n",
    "            self.sdr.fc += FREQ_INC_FINE if self.shift_key_down else FREQ_INC_COARSE\n",
    "            self.update_plot_labels()\n",
    "        elif event.button == 'down':\n",
    "            self.sdr.fc -= FREQ_INC_FINE if self.shift_key_down else FREQ_INC_COARSE\n",
    "            self.update_plot_labels()\n",
    "\n",
    "    def on_key_press(self, event):\n",
    "        if event.key == '+':\n",
    "            self.sdr.gain += GAIN_INC\n",
    "        elif event.key == '-':\n",
    "            self.sdr.gain -= GAIN_INC\n",
    "        elif event.key == ' ':\n",
    "            self.sdr.gain = 'auto'\n",
    "        elif event.key == 'shift':\n",
    "            self.shift_key_down = True\n",
    "        elif event.key == 'right':\n",
    "            self.sdr.fc += FREQ_INC_FINE if self.shift_key_down else FREQ_INC_COARSE\n",
    "            self.update_plot_labels()\n",
    "        elif event.key == 'left':\n",
    "            self.sdr.fc -= FREQ_INC_FINE if self.shift_key_down else FREQ_INC_COARSE\n",
    "            self.update_plot_labels()\n",
    "        elif event.key == 'enter':\n",
    "            # see if valid frequency was entered, then change center frequency\n",
    "            try:\n",
    "                # join individual key presses into a string\n",
    "                input = ''.join(self.keyboard_buffer)\n",
    "\n",
    "                # if we're doing multiple adjacent scans, we need to figure out\n",
    "                # the appropriate center freq for the leftmost scan\n",
    "                center_freq = float(input)*1e6 + (self.sdr.rs/2)*(1 - NUM_SCANS_PER_SWEEP)\n",
    "                self.sdr.fc = center_freq\n",
    "\n",
    "                self.update_plot_labels()\n",
    "            except ValueError:\n",
    "                pass\n",
    "\n",
    "            self.keyboard_buffer = []\n",
    "        else:\n",
    "            self.keyboard_buffer.append(event.key)\n",
    "\n",
    "    def on_key_release(self, event):\n",
    "        if event.key == 'shift':\n",
    "            self.shift_key_down = False\n",
    "\n",
    "    def update(self, *args):\n",
    "        # save center freq. since we're gonna be changing it\n",
    "        start_fc = self.sdr.fc\n",
    "\n",
    "        # prepare space in buffer\n",
    "        # TODO: use indexing to avoid recreating buffer each time\n",
    "        self.image_buffer = np.roll(self.image_buffer, 1, axis=0)\n",
    "\n",
    "        for scan_num, start_ind in enumerate(range(0, NUM_SCANS_PER_SWEEP*NFFT, NFFT)):\n",
    "            self.sdr.fc += self.sdr.rs*scan_num\n",
    "\n",
    "            # estimate PSD for one scan\n",
    "            samples = self.sdr.read_samples(NUM_SAMPLES_PER_SCAN)\n",
    "            psd_scan, f = psd(samples, NFFT=NFFT)\n",
    "\n",
    "            self.image_buffer[0, start_ind: start_ind+NFFT] = 10*np.log10(psd_scan)\n",
    "\n",
    "        # plot entire sweep\n",
    "        self.image.set_array(self.image_buffer)\n",
    "\n",
    "        # restore original center freq.\n",
    "        self.sdr.fc = start_fc\n",
    "\n",
    "        return self.image,\n",
    "\n",
    "    def start(self):\n",
    "        self.update_plot_labels()\n",
    "        if sys.platform == 'darwin':\n",
    "            # Disable blitting. The matplotlib.animation's restore_region()\n",
    "            # method is only implemented for the Agg-based backends,\n",
    "            # which the macosx backend is not.\n",
    "            blit = False\n",
    "        else:\n",
    "            blit = True\n",
    "        ani = animation.FuncAnimation(self.fig, self.update, interval=50,\n",
    "                blit=blit)\n",
    "\n",
    "        pyl.show()\n",
    "\n",
    "        return"
   ]
  },
  {
   "cell_type": "code",
   "execution_count": 11,
   "id": "d6e18456",
   "metadata": {},
   "outputs": [],
   "source": [
    "def main():\n",
    "    sdr = RtlSdr()\n",
    "    wf = Waterfall(sdr)\n",
    "\n",
    "    # some defaults\n",
    "    sdr.rs = 2.4e6\n",
    "    sdr.fc = 100e6\n",
    "    sdr.gain = 10\n",
    "\n",
    "    wf.start()\n",
    "\n",
    "    # cleanup\n",
    "    sdr.close()"
   ]
  },
  {
   "cell_type": "code",
   "execution_count": 12,
   "id": "c6baef89",
   "metadata": {},
   "outputs": [
    {
     "name": "stderr",
     "output_type": "stream",
     "text": [
      "Found Rafael Micro R820T/2 tuner\n",
      "/var/folders/x0/fmsrnw9x6qn029557vvlnh380000gn/T/ipykernel_57887/3577499985.py:112: UserWarning: frames=None which we can infer the length of, did not pass an explicit *save_count* and passed cache_frame_data=True.  To avoid a possibly unbounded cache, frame data caching has been disabled. To suppress this warning either pass `cache_frame_data=False` or `save_count=MAX_FRAMES`.\n",
      "  ani = animation.FuncAnimation(self.fig, self.update, interval=50,\n"
     ]
    },
    {
     "data": {
      "image/png": "[encoded data removed]",
      "text/plain": [
       "<Figure size 640x480 with 1 Axes>"
      ]
     },
     "metadata": {},
     "output_type": "display_data"
    }
   ],
   "source": [
    "if __name__ == '__main__':\n",
    "    main()"
   ]
  }
 ],
 "metadata": {
  "kernelspec": {
   "display_name": "Python 3 (ipykernel)",
   "language": "python",
   "name": "python3"
  },
  "language_info": {
   "codemirror_mode": {
    "name": "ipython",
    "version": 3
   },
   "file_extension": ".py",
   "mimetype": "text/x-python",
   "name": "python",
   "nbconvert_exporter": "python",
   "pygments_lexer": "ipython3",
   "version": "3.9.16"
  }
 },
 "nbformat": 4,
 "nbformat_minor": 5
}
